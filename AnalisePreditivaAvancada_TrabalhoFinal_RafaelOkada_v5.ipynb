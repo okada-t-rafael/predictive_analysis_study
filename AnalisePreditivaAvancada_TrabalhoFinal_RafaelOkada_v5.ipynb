{
  "nbformat": 4,
  "nbformat_minor": 0,
  "metadata": {
    "colab": {
      "name": "AnalisePreditivaAvancada_TrabalhoFinal_RafaelOkada_v5.ipynb",
      "provenance": [],
      "collapsed_sections": [
        "OiEy1IMBsHUl",
        "viqbLMss9c1r",
        "DAjEd5ltKtI7",
        "eSe5sxdLhTCY",
        "9G0lswqhilF3",
        "j5g4nOGAe0RX",
        "qEuQzIEhixLl",
        "H8OM1XT_-RrS",
        "OqkYQf8ixTx8"
      ],
      "include_colab_link": true
    },
    "kernelspec": {
      "name": "python3",
      "display_name": "Python 3"
    }
  },
  "cells": [
    {
      "cell_type": "markdown",
      "metadata": {
        "id": "view-in-github",
        "colab_type": "text"
      },
      "source": [
        "<a href=\"https://colab.research.google.com/github/okada-t-rafael/predictive_analysis_study/blob/main/AnalisePreditivaAvancada_TrabalhoFinal_RafaelOkada_v5.ipynb\" target=\"_parent\"><img src=\"https://colab.research.google.com/assets/colab-badge.svg\" alt=\"Open In Colab\"/></a>"
      ]
    },
    {
      "cell_type": "markdown",
      "metadata": {
        "id": "OiEy1IMBsHUl"
      },
      "source": [
        "# Análise Preditiva Avançada - Trabalho Final\n",
        "\n",
        "por: Rafael Tamotsu Okada, A57627262.\n",
        "\n",
        "**Contexto**\n",
        "\n",
        "Dataset originalizado pela *National Institute of Diabetes and Digestive and Kidney Diseases*. O objetivo é realizar a predição se um paciente tem diabetes baseado nas medições de seu diagnóstico. Diversas restrições foram levantadas durante a seleção destas observações. Em particular, todos os pacientes deste database são mulheres com pelo menos 21 anos decentens de Pima, povo nativo dos Estados Unidos da América.\n",
        "\n",
        "**Fontes**\n",
        "\n",
        "(a) Original owners: National Institute of Diabetes and Digestive and\n",
        "Kidney Diseases\n",
        "\n",
        "(b) Donor of database: Vincent Sigillito (vgs@aplcen.apl.jhu.edu) Research Center, RMI Group Leader, Applied Physics Laboratory, The Johns Hopkins University, Johns Hopkins Road, Laurel, MD 20707, (301) 953-6231\n",
        "\n",
        "(c) Kaggle: https://www.kaggle.com/mathchi/diabetes-data-set, acessado em 19 de setembro, 2020 às 16:10."
      ]
    },
    {
      "cell_type": "markdown",
      "metadata": {
        "id": "viqbLMss9c1r"
      },
      "source": [
        "# 0. Sumário\n",
        "\n",
        "\n",
        "1.   Importação dos Dados\n",
        "2.   Análise Exploratória\n",
        "3.   Balanceamento do Dataset\n",
        "4.   Separação Base Treino / Base Teste\n",
        "5.   Modelagem e Teste (SVM Classifier)\n",
        "6.   Modelagem e Teste (Logistic Regression)\n",
        "7.   Modelagem e Teste (KNeighbors Classifier)\n",
        "8.   Modelagem e Teste (Random Forest)\n",
        "9.   Modelagem e Teste (Ensemble Model)\n",
        "\n"
      ]
    },
    {
      "cell_type": "markdown",
      "metadata": {
        "id": "NWdgH84cA_hL"
      },
      "source": [
        "# 1. Importação dos Dados"
      ]
    },
    {
      "cell_type": "code",
      "metadata": {
        "id": "vfkfBDtgD7nl"
      },
      "source": [
        "# Upload datafiles to google colab\n",
        "# from google.colab import files\n",
        "# data = files.upload()"
      ],
      "execution_count": null,
      "outputs": []
    },
    {
      "cell_type": "code",
      "metadata": {
        "id": "yp3lzrwaxoQL"
      },
      "source": [
        "import math\n",
        "import matplotlib.pyplot as plt\n",
        "import numpy as np\n",
        "import pandas as pd\n",
        "\n",
        "from sklearn.ensemble import RandomForestClassifier, VotingClassifier\n",
        "from sklearn.linear_model import LinearRegression, LogisticRegression\n",
        "from sklearn.metrics import accuracy_score, classification_report, confusion_matrix, mean_squared_error\n",
        "from sklearn.model_selection import GridSearchCV, KFold, train_test_split\n",
        "from sklearn.neighbors import KNeighborsClassifier\n",
        "from sklearn.pipeline import Pipeline\n",
        "from sklearn.preprocessing import StandardScaler\n",
        "from sklearn.svm import SVC\n",
        "from sklearn.utils import resample"
      ],
      "execution_count": null,
      "outputs": []
    },
    {
      "cell_type": "code",
      "metadata": {
        "id": "ztV8XItmzkvb",
        "outputId": "a84c6e7e-4a1c-45ba-8855-6b281c94eb5a",
        "colab": {
          "base_uri": "https://localhost:8080/",
          "height": 195
        }
      },
      "source": [
        "df = pd.read_csv('diabetes.csv')\n",
        "df.head()"
      ],
      "execution_count": null,
      "outputs": [
        {
          "output_type": "execute_result",
          "data": {
            "text/html": [
              "<div>\n",
              "<style scoped>\n",
              "    .dataframe tbody tr th:only-of-type {\n",
              "        vertical-align: middle;\n",
              "    }\n",
              "\n",
              "    .dataframe tbody tr th {\n",
              "        vertical-align: top;\n",
              "    }\n",
              "\n",
              "    .dataframe thead th {\n",
              "        text-align: right;\n",
              "    }\n",
              "</style>\n",
              "<table border=\"1\" class=\"dataframe\">\n",
              "  <thead>\n",
              "    <tr style=\"text-align: right;\">\n",
              "      <th></th>\n",
              "      <th>Pregnancies</th>\n",
              "      <th>Glucose</th>\n",
              "      <th>BloodPressure</th>\n",
              "      <th>SkinThickness</th>\n",
              "      <th>Insulin</th>\n",
              "      <th>BMI</th>\n",
              "      <th>DiabetesPedigreeFunction</th>\n",
              "      <th>Age</th>\n",
              "      <th>Outcome</th>\n",
              "    </tr>\n",
              "  </thead>\n",
              "  <tbody>\n",
              "    <tr>\n",
              "      <th>0</th>\n",
              "      <td>6</td>\n",
              "      <td>148</td>\n",
              "      <td>72</td>\n",
              "      <td>35</td>\n",
              "      <td>0</td>\n",
              "      <td>33.6</td>\n",
              "      <td>0.627</td>\n",
              "      <td>50</td>\n",
              "      <td>1</td>\n",
              "    </tr>\n",
              "    <tr>\n",
              "      <th>1</th>\n",
              "      <td>1</td>\n",
              "      <td>85</td>\n",
              "      <td>66</td>\n",
              "      <td>29</td>\n",
              "      <td>0</td>\n",
              "      <td>26.6</td>\n",
              "      <td>0.351</td>\n",
              "      <td>31</td>\n",
              "      <td>0</td>\n",
              "    </tr>\n",
              "    <tr>\n",
              "      <th>2</th>\n",
              "      <td>8</td>\n",
              "      <td>183</td>\n",
              "      <td>64</td>\n",
              "      <td>0</td>\n",
              "      <td>0</td>\n",
              "      <td>23.3</td>\n",
              "      <td>0.672</td>\n",
              "      <td>32</td>\n",
              "      <td>1</td>\n",
              "    </tr>\n",
              "    <tr>\n",
              "      <th>3</th>\n",
              "      <td>1</td>\n",
              "      <td>89</td>\n",
              "      <td>66</td>\n",
              "      <td>23</td>\n",
              "      <td>94</td>\n",
              "      <td>28.1</td>\n",
              "      <td>0.167</td>\n",
              "      <td>21</td>\n",
              "      <td>0</td>\n",
              "    </tr>\n",
              "    <tr>\n",
              "      <th>4</th>\n",
              "      <td>0</td>\n",
              "      <td>137</td>\n",
              "      <td>40</td>\n",
              "      <td>35</td>\n",
              "      <td>168</td>\n",
              "      <td>43.1</td>\n",
              "      <td>2.288</td>\n",
              "      <td>33</td>\n",
              "      <td>1</td>\n",
              "    </tr>\n",
              "  </tbody>\n",
              "</table>\n",
              "</div>"
            ],
            "text/plain": [
              "   Pregnancies  Glucose  BloodPressure  ...  DiabetesPedigreeFunction  Age  Outcome\n",
              "0            6      148             72  ...                     0.627   50        1\n",
              "1            1       85             66  ...                     0.351   31        0\n",
              "2            8      183             64  ...                     0.672   32        1\n",
              "3            1       89             66  ...                     0.167   21        0\n",
              "4            0      137             40  ...                     2.288   33        1\n",
              "\n",
              "[5 rows x 9 columns]"
            ]
          },
          "metadata": {
            "tags": []
          },
          "execution_count": 60
        }
      ]
    },
    {
      "cell_type": "code",
      "metadata": {
        "id": "fZGqvvNWleDv",
        "outputId": "40544bae-6542-4a1d-f219-323afd806f1e",
        "colab": {
          "base_uri": "https://localhost:8080/",
          "height": 284
        }
      },
      "source": [
        "df.describe()"
      ],
      "execution_count": null,
      "outputs": [
        {
          "output_type": "execute_result",
          "data": {
            "text/html": [
              "<div>\n",
              "<style scoped>\n",
              "    .dataframe tbody tr th:only-of-type {\n",
              "        vertical-align: middle;\n",
              "    }\n",
              "\n",
              "    .dataframe tbody tr th {\n",
              "        vertical-align: top;\n",
              "    }\n",
              "\n",
              "    .dataframe thead th {\n",
              "        text-align: right;\n",
              "    }\n",
              "</style>\n",
              "<table border=\"1\" class=\"dataframe\">\n",
              "  <thead>\n",
              "    <tr style=\"text-align: right;\">\n",
              "      <th></th>\n",
              "      <th>Pregnancies</th>\n",
              "      <th>Glucose</th>\n",
              "      <th>BloodPressure</th>\n",
              "      <th>SkinThickness</th>\n",
              "      <th>Insulin</th>\n",
              "      <th>BMI</th>\n",
              "      <th>DiabetesPedigreeFunction</th>\n",
              "      <th>Age</th>\n",
              "      <th>Outcome</th>\n",
              "    </tr>\n",
              "  </thead>\n",
              "  <tbody>\n",
              "    <tr>\n",
              "      <th>count</th>\n",
              "      <td>768.000000</td>\n",
              "      <td>768.000000</td>\n",
              "      <td>768.000000</td>\n",
              "      <td>768.000000</td>\n",
              "      <td>768.000000</td>\n",
              "      <td>768.000000</td>\n",
              "      <td>768.000000</td>\n",
              "      <td>768.000000</td>\n",
              "      <td>768.000000</td>\n",
              "    </tr>\n",
              "    <tr>\n",
              "      <th>mean</th>\n",
              "      <td>3.845052</td>\n",
              "      <td>120.894531</td>\n",
              "      <td>69.105469</td>\n",
              "      <td>20.536458</td>\n",
              "      <td>79.799479</td>\n",
              "      <td>31.992578</td>\n",
              "      <td>0.471876</td>\n",
              "      <td>33.240885</td>\n",
              "      <td>0.348958</td>\n",
              "    </tr>\n",
              "    <tr>\n",
              "      <th>std</th>\n",
              "      <td>3.369578</td>\n",
              "      <td>31.972618</td>\n",
              "      <td>19.355807</td>\n",
              "      <td>15.952218</td>\n",
              "      <td>115.244002</td>\n",
              "      <td>7.884160</td>\n",
              "      <td>0.331329</td>\n",
              "      <td>11.760232</td>\n",
              "      <td>0.476951</td>\n",
              "    </tr>\n",
              "    <tr>\n",
              "      <th>min</th>\n",
              "      <td>0.000000</td>\n",
              "      <td>0.000000</td>\n",
              "      <td>0.000000</td>\n",
              "      <td>0.000000</td>\n",
              "      <td>0.000000</td>\n",
              "      <td>0.000000</td>\n",
              "      <td>0.078000</td>\n",
              "      <td>21.000000</td>\n",
              "      <td>0.000000</td>\n",
              "    </tr>\n",
              "    <tr>\n",
              "      <th>25%</th>\n",
              "      <td>1.000000</td>\n",
              "      <td>99.000000</td>\n",
              "      <td>62.000000</td>\n",
              "      <td>0.000000</td>\n",
              "      <td>0.000000</td>\n",
              "      <td>27.300000</td>\n",
              "      <td>0.243750</td>\n",
              "      <td>24.000000</td>\n",
              "      <td>0.000000</td>\n",
              "    </tr>\n",
              "    <tr>\n",
              "      <th>50%</th>\n",
              "      <td>3.000000</td>\n",
              "      <td>117.000000</td>\n",
              "      <td>72.000000</td>\n",
              "      <td>23.000000</td>\n",
              "      <td>30.500000</td>\n",
              "      <td>32.000000</td>\n",
              "      <td>0.372500</td>\n",
              "      <td>29.000000</td>\n",
              "      <td>0.000000</td>\n",
              "    </tr>\n",
              "    <tr>\n",
              "      <th>75%</th>\n",
              "      <td>6.000000</td>\n",
              "      <td>140.250000</td>\n",
              "      <td>80.000000</td>\n",
              "      <td>32.000000</td>\n",
              "      <td>127.250000</td>\n",
              "      <td>36.600000</td>\n",
              "      <td>0.626250</td>\n",
              "      <td>41.000000</td>\n",
              "      <td>1.000000</td>\n",
              "    </tr>\n",
              "    <tr>\n",
              "      <th>max</th>\n",
              "      <td>17.000000</td>\n",
              "      <td>199.000000</td>\n",
              "      <td>122.000000</td>\n",
              "      <td>99.000000</td>\n",
              "      <td>846.000000</td>\n",
              "      <td>67.100000</td>\n",
              "      <td>2.420000</td>\n",
              "      <td>81.000000</td>\n",
              "      <td>1.000000</td>\n",
              "    </tr>\n",
              "  </tbody>\n",
              "</table>\n",
              "</div>"
            ],
            "text/plain": [
              "       Pregnancies     Glucose  ...         Age     Outcome\n",
              "count   768.000000  768.000000  ...  768.000000  768.000000\n",
              "mean      3.845052  120.894531  ...   33.240885    0.348958\n",
              "std       3.369578   31.972618  ...   11.760232    0.476951\n",
              "min       0.000000    0.000000  ...   21.000000    0.000000\n",
              "25%       1.000000   99.000000  ...   24.000000    0.000000\n",
              "50%       3.000000  117.000000  ...   29.000000    0.000000\n",
              "75%       6.000000  140.250000  ...   41.000000    1.000000\n",
              "max      17.000000  199.000000  ...   81.000000    1.000000\n",
              "\n",
              "[8 rows x 9 columns]"
            ]
          },
          "metadata": {
            "tags": []
          },
          "execution_count": 61
        }
      ]
    },
    {
      "cell_type": "markdown",
      "metadata": {
        "id": "VJl6eqvPz4V1"
      },
      "source": [
        "# 2. Análise Exploratória e Tratamento dos Dados\n",
        "\n",
        "\n",
        "**Dicionário de Dados**\n",
        "\n",
        "* Pregnancies: Número de gravidezes;\n",
        "* Glucose: Glicose plasmatica pos prandial 2 horas;\n",
        "* BloodPressure: Pressão arterial diastólica (mm Hg);\n",
        "* SkinThickness: Espessura da dobra da pele do tríceps (mm);\n",
        "* Insulin: Insulina sérica de 2 horas (mu U / ml);\n",
        "* BMI: Índice de massa (peso em kg / (altura em m) ^ 2);\n",
        "* DiabetesPedigreeFunction: Função Diabetes pedigree;\n",
        "* Age: Idade (anos);\n",
        "* Outcome: Class variable (0: negativo e 1: positivo para diabetes);"
      ]
    },
    {
      "cell_type": "code",
      "metadata": {
        "id": "7ZeVsiMrM5z1",
        "outputId": "47f73231-6689-4051-8d49-10757d659d2c",
        "colab": {
          "base_uri": "https://localhost:8080/",
          "height": 716
        }
      },
      "source": [
        "# Overall view of the dataset!\n",
        "fig, axs = plt.subplots(3, 3)\n",
        "fig.set_figheight(12)\n",
        "fig.set_figwidth(9)\n",
        "\n",
        "bins = 10\n",
        "\n",
        "axs[0, 0].hist(df['Pregnancies'], bins, color='grey', alpha=0.75, rwidth=0.75)\n",
        "axs[0, 0].set_title('Pregnancies')\n",
        "axs[0, 1].hist(df['Glucose'], bins, color='grey', alpha=0.75, rwidth=0.75)\n",
        "axs[0, 1].set_title('Glucose')\n",
        "axs[0, 2].hist(df['BloodPressure'], bins, color='grey', alpha=0.75, rwidth=0.75)\n",
        "axs[0, 2].set_title('BloodPressure')\n",
        "axs[1, 0].hist(df['SkinThickness'], bins, color='grey', alpha=0.75, rwidth=0.75)\n",
        "axs[1, 0].set_title('SkinThickness')\n",
        "axs[1, 1].hist(df['Insulin'], bins, color='grey', alpha=0.75, rwidth=0.75)\n",
        "axs[1, 1].set_title('Insulin')\n",
        "axs[1, 2].hist(df['BMI'], bins, color='grey', alpha=0.75, rwidth=0.75)\n",
        "axs[1, 2].set_title('BMI')\n",
        "axs[2, 0].hist(df['DiabetesPedigreeFunction'], bins, color='grey', alpha=0.75, rwidth=0.75)\n",
        "axs[2, 0].set_title('DiabetesPedigreeFunction')\n",
        "axs[2, 1].hist(df['Age'], bins, color='grey', alpha=0.75, rwidth=0.75)\n",
        "axs[2, 1].set_title('Age')\n",
        "\n",
        "fig.show()"
      ],
      "execution_count": null,
      "outputs": [
        {
          "output_type": "display_data",
          "data": {
            "image/png": "[encoded data removed]",
            "text/plain": [
              "<Figure size 648x864 with 9 Axes>"
            ]
          },
          "metadata": {
            "tags": [],
            "needs_background": "light"
          }
        }
      ]
    },
    {
      "cell_type": "markdown",
      "metadata": {
        "id": "UBYWhND1mm7l"
      },
      "source": [
        "**Missing Values**"
      ]
    },
    {
      "cell_type": "code",
      "metadata": {
        "id": "HDlU6DqZmk2g",
        "outputId": "1ad76246-a3b0-4760-97aa-3632a397da43",
        "colab": {
          "base_uri": "https://localhost:8080/",
          "height": 101
        }
      },
      "source": [
        "# Checking Missing Values =(\n",
        "print(\"- Glucose       : \" + f\"{df['Glucose'].value_counts()[0]}\".rjust(4) + \" / \" + str(len(df)))\n",
        "print(\"- BloodPressure : \" + f\"{df['BloodPressure'].value_counts()[0]}\".rjust(4) + \" / \" + str(len(df)))\n",
        "print(\"- SkinThickness : \" + f\"{df['SkinThickness'].value_counts()[0]}\".rjust(4) + \" / \" + str(len(df)))\n",
        "print(\"- Insulin       : \" + f\"{df['Insulin'].value_counts()[0]}\".rjust(4) + \" / \" + str(len(df)))\n",
        "print(\"- BMI           : \" + f\"{df['BMI'].value_counts()[0]}\".rjust(4) + \" / \" + str(len(df)))\n",
        "\n",
        "# Zero for these features are Missing Values... OMG! "
      ],
      "execution_count": null,
      "outputs": [
        {
          "output_type": "stream",
          "text": [
            "- Glucose       :    5 / 768\n",
            "- BloodPressure :   35 / 768\n",
            "- SkinThickness :  227 / 768\n",
            "- Insulin       :  374 / 768\n",
            "- BMI           :   11 / 768\n"
          ],
          "name": "stdout"
        }
      ]
    },
    {
      "cell_type": "markdown",
      "metadata": {
        "id": "TH58oTnUXG0m"
      },
      "source": [
        "**Tratamento das features: Glucose, BloodPressure and BMI (Mean substitution)**\n",
        "\n",
        "Para estas features, como a quantidade de valores 0 não eram tão altas, decidiu-se por substituí-los pela a média da coluna."
      ]
    },
    {
      "cell_type": "code",
      "metadata": {
        "id": "MtdQKlTzXRLq"
      },
      "source": [
        "cols = ['Glucose', 'BloodPressure', 'BMI']\n",
        "df[cols] = df[cols].replace({0: np.nan})\n",
        "df[cols] = df[cols].fillna(value=df[cols].mean())"
      ],
      "execution_count": null,
      "outputs": []
    },
    {
      "cell_type": "code",
      "metadata": {
        "id": "tjp6nxEudY4v",
        "outputId": "162af991-4356-4858-a009-f8669fdd2722",
        "colab": {
          "base_uri": "https://localhost:8080/",
          "height": 281
        }
      },
      "source": [
        "fig, axs = plt.subplots(1, 3)\n",
        "fig.set_figheight(4)\n",
        "fig.set_figwidth(9)\n",
        "\n",
        "bins = 10\n",
        "\n",
        "axs[0].hist(df['Glucose'], bins, color='grey', alpha=0.75, rwidth=0.75)\n",
        "axs[0].set_title('Glucose')\n",
        "axs[1].hist(df['BloodPressure'], bins, color='grey', alpha=0.75, rwidth=0.75)\n",
        "axs[1].set_title('BloodPressure')\n",
        "axs[2].hist(df['BMI'], bins, color='grey', alpha=0.75, rwidth=0.75)\n",
        "axs[2].set_title('BMI')\n",
        "\n",
        "fig.show()"
      ],
      "execution_count": null,
      "outputs": [
        {
          "output_type": "display_data",
          "data": {
            "image/png": "[encoded data removed]",
            "text/plain": [
              "<Figure size 648x288 with 3 Axes>"
            ]
          },
          "metadata": {
            "tags": [],
            "needs_background": "light"
          }
        }
      ]
    },
    {
      "cell_type": "code",
      "metadata": {
        "id": "AkzC_pqnmTVW"
      },
      "source": [
        ""
      ],
      "execution_count": null,
      "outputs": []
    },
    {
      "cell_type": "markdown",
      "metadata": {
        "id": "uSoxDwCsAa2z"
      },
      "source": [
        "**Tratamento da feature: SkinThickness (Regression imputation)**\n",
        "\n",
        "Notou-se que ao se remover os valores 0 da feature SkinThicknes a correlação entre SkinThickness e BMI aumentava de 0.39 para 0.65. Assim, deciu-se por inferir os missing values de SkinThickness, utlizando-se um modelo de regressão linear simples, onde a variável indepentende seria a feature BMI.\n"
      ]
    },
    {
      "cell_type": "code",
      "metadata": {
        "id": "tqPGxVKK76J2"
      },
      "source": [
        "df2 = df.copy()  # deepcopy!\n",
        "df2['SkinThickness'] = df2['SkinThickness'].replace({0:np.nan})\n",
        "df2.dropna(inplace=True)"
      ],
      "execution_count": null,
      "outputs": []
    },
    {
      "cell_type": "code",
      "metadata": {
        "id": "tL3W9eam8nrY",
        "outputId": "8a5d4ce7-de7f-4f00-e273-2da693b360ec",
        "colab": {
          "base_uri": "https://localhost:8080/",
          "height": 279
        }
      },
      "source": [
        "fig, axs = plt.subplots(1)\n",
        "fig.set_figheight(4)\n",
        "fig.set_figwidth(9)\n",
        "\n",
        "axs.scatter(df2['SkinThickness'], df2['BMI'], color='gray', alpha=0.75, s=10)\n",
        "axs.set_xlabel('SkinThickness')\n",
        "axs.set_ylabel('BMI')\n",
        "\n",
        "fig.show()"
      ],
      "execution_count": null,
      "outputs": [
        {
          "output_type": "display_data",
          "data": {
            "image/png": "[encoded data removed]",
            "text/plain": [
              "<Figure size 648x288 with 1 Axes>"
            ]
          },
          "metadata": {
            "tags": [],
            "needs_background": "light"
          }
        }
      ]
    },
    {
      "cell_type": "code",
      "metadata": {
        "id": "-FJ8exMYHiu6",
        "outputId": "de14cb10-1e49-43ab-ae5b-bfd51e7a155f",
        "colab": {
          "base_uri": "https://localhost:8080/",
          "height": 34
        }
      },
      "source": [
        "print(f\"Correlation: {df2['SkinThickness'].corr(df2['BMI']):.4f}\") "
      ],
      "execution_count": null,
      "outputs": [
        {
          "output_type": "stream",
          "text": [
            "Correlation: 0.6479\n"
          ],
          "name": "stdout"
        }
      ]
    },
    {
      "cell_type": "code",
      "metadata": {
        "id": "JcIs2O1wJz0Z"
      },
      "source": [
        "X_temp = df2[['BMI']]\n",
        "y_temp = df2['SkinThickness']\n",
        "X_train, X_test, y_train, y_test = train_test_split(X_temp, y_temp, test_size = 0.25, random_state=1000)"
      ],
      "execution_count": null,
      "outputs": []
    },
    {
      "cell_type": "code",
      "metadata": {
        "id": "Ex9txFj5J3gO",
        "outputId": "56174cb8-7fc5-438d-a048-d5c791ce0875",
        "colab": {
          "base_uri": "https://localhost:8080/",
          "height": 34
        }
      },
      "source": [
        "l_reg = LinearRegression()\n",
        "l_reg.fit(X_train, y_train)\n",
        "print(f'Intercept: {l_reg.intercept_:.4f}, Coef: {l_reg.coef_[0]:.4f}')"
      ],
      "execution_count": null,
      "outputs": [
        {
          "output_type": "stream",
          "text": [
            "Intercept: -1.8267, Coef: 0.9377\n"
          ],
          "name": "stdout"
        }
      ]
    },
    {
      "cell_type": "code",
      "metadata": {
        "id": "U5Eszio8EfBV"
      },
      "source": [
        "# What a nasty code line! \\o/\n",
        "df['SkinThickness'] = df.apply(lambda row: row['SkinThickness'] if row['SkinThickness'] != 0 else l_reg.predict([[row['BMI']]])[0], axis=1)"
      ],
      "execution_count": null,
      "outputs": []
    },
    {
      "cell_type": "code",
      "metadata": {
        "id": "O_UgwJp3f_ae",
        "outputId": "7dbfc34d-d5e5-4d77-e02a-47a472fb0a61",
        "colab": {
          "base_uri": "https://localhost:8080/",
          "height": 281
        }
      },
      "source": [
        "fig, axs = plt.subplots(1, 3)\n",
        "fig.set_figheight(4)\n",
        "fig.set_figwidth(9)\n",
        "\n",
        "bins = 10\n",
        "\n",
        "axs[0].hist(df2['SkinThickness'], bins, color='grey', alpha=0.75, rwidth=0.75)\n",
        "axs[0].set_title('Before w/o Zeros')\n",
        "\n",
        "axs[1].hist(df['SkinThickness'], bins, color='grey', alpha=0.75, rwidth=0.75)\n",
        "axs[1].set_title('After Reg. Imputation')\n",
        "\n",
        "fig.show()"
      ],
      "execution_count": null,
      "outputs": [
        {
          "output_type": "display_data",
          "data": {
            "image/png": "[encoded data removed]",
            "text/plain": [
              "<Figure size 648x288 with 3 Axes>"
            ]
          },
          "metadata": {
            "tags": [],
            "needs_background": "light"
          }
        }
      ]
    },
    {
      "cell_type": "markdown",
      "metadata": {
        "id": "oWtKfPm5aKYb"
      },
      "source": [
        "**Tratamento da Feature: Insulin (Regression imputation)**\n",
        "\n",
        "Foi utilizado a mesma estratégia de SkinThickness."
      ]
    },
    {
      "cell_type": "code",
      "metadata": {
        "id": "vaRCpBMBbTlj"
      },
      "source": [
        "df3 = df.copy()  # Deepcopy!\n",
        "df3['Insulin'] = df3['Insulin'].replace({0: np.nan})\n",
        "df3.dropna(inplace=True)"
      ],
      "execution_count": null,
      "outputs": []
    },
    {
      "cell_type": "code",
      "metadata": {
        "id": "ybNGkLBMkP_T",
        "outputId": "fc976aaf-0518-4f3f-fd96-d13810e5c5f7",
        "colab": {
          "base_uri": "https://localhost:8080/",
          "height": 279
        }
      },
      "source": [
        "fig, axs = plt.subplots(1)\n",
        "fig.set_figheight(4)\n",
        "fig.set_figwidth(9)\n",
        "\n",
        "axs.scatter(df3['Insulin'], df3['Glucose'], color='gray', alpha=0.75, s=10)\n",
        "axs.set_xlabel('Insulin')\n",
        "axs.set_ylabel('Glucose')\n",
        "fig.show()"
      ],
      "execution_count": null,
      "outputs": [
        {
          "output_type": "display_data",
          "data": {
            "image/png": "[encoded data removed]",
            "text/plain": [
              "<Figure size 648x288 with 1 Axes>"
            ]
          },
          "metadata": {
            "tags": [],
            "needs_background": "light"
          }
        }
      ]
    },
    {
      "cell_type": "code",
      "metadata": {
        "id": "QKbvBY6SkhVi",
        "outputId": "3624e879-41a2-4410-d6a5-2184dd87cfcb",
        "colab": {
          "base_uri": "https://localhost:8080/",
          "height": 34
        }
      },
      "source": [
        "print(f\"Correlation: {df3['Insulin'].corr(df3['Glucose']):.4f}\") "
      ],
      "execution_count": null,
      "outputs": [
        {
          "output_type": "stream",
          "text": [
            "Correlation: 0.5803\n"
          ],
          "name": "stdout"
        }
      ]
    },
    {
      "cell_type": "code",
      "metadata": {
        "id": "PzYgHlyTsFOb"
      },
      "source": [
        "X_temp = df3[['Glucose']]\n",
        "y_temp = df3['Insulin']\n",
        "X_train, X_test, y_train, y_test = train_test_split(X_temp, y_temp, test_size = 0.25, random_state=1000)"
      ],
      "execution_count": null,
      "outputs": []
    },
    {
      "cell_type": "code",
      "metadata": {
        "id": "X0JOUVO5sKY3",
        "outputId": "2ad82127-22c5-4ee8-c42e-0d2451653b95",
        "colab": {
          "base_uri": "https://localhost:8080/",
          "height": 34
        }
      },
      "source": [
        "l_reg = LinearRegression()\n",
        "l_reg.fit(X_train, y_train)\n",
        "print(f'Intercept: {l_reg.intercept_:.4f}, Coef: {l_reg.coef_[0]:.4f}')"
      ],
      "execution_count": null,
      "outputs": [
        {
          "output_type": "stream",
          "text": [
            "Intercept: -106.0604, Coef: 2.1022\n"
          ],
          "name": "stdout"
        }
      ]
    },
    {
      "cell_type": "code",
      "metadata": {
        "id": "uLgMI6CFsKGB"
      },
      "source": [
        "df['Insulin'] = df.apply(lambda row: row['Insulin'] if row['Insulin'] != 0 else l_reg.predict([[row['Glucose']]])[0], axis=1)"
      ],
      "execution_count": null,
      "outputs": []
    },
    {
      "cell_type": "code",
      "metadata": {
        "id": "eE2ZgZbgtLzd",
        "outputId": "c8595536-0bb5-4463-cf0c-0d144d441c00",
        "colab": {
          "base_uri": "https://localhost:8080/",
          "height": 284
        }
      },
      "source": [
        "df[['Insulin', 'Glucose']].describe()"
      ],
      "execution_count": null,
      "outputs": [
        {
          "output_type": "execute_result",
          "data": {
            "text/html": [
              "<div>\n",
              "<style scoped>\n",
              "    .dataframe tbody tr th:only-of-type {\n",
              "        vertical-align: middle;\n",
              "    }\n",
              "\n",
              "    .dataframe tbody tr th {\n",
              "        vertical-align: top;\n",
              "    }\n",
              "\n",
              "    .dataframe thead th {\n",
              "        text-align: right;\n",
              "    }\n",
              "</style>\n",
              "<table border=\"1\" class=\"dataframe\">\n",
              "  <thead>\n",
              "    <tr style=\"text-align: right;\">\n",
              "      <th></th>\n",
              "      <th>Insulin</th>\n",
              "      <th>Glucose</th>\n",
              "    </tr>\n",
              "  </thead>\n",
              "  <tbody>\n",
              "    <tr>\n",
              "      <th>count</th>\n",
              "      <td>768.000000</td>\n",
              "      <td>768.000000</td>\n",
              "    </tr>\n",
              "    <tr>\n",
              "      <th>mean</th>\n",
              "      <td>151.725932</td>\n",
              "      <td>121.686763</td>\n",
              "    </tr>\n",
              "    <tr>\n",
              "      <th>std</th>\n",
              "      <td>95.854471</td>\n",
              "      <td>30.435949</td>\n",
              "    </tr>\n",
              "    <tr>\n",
              "      <th>min</th>\n",
              "      <td>-13.562898</td>\n",
              "      <td>44.000000</td>\n",
              "    </tr>\n",
              "    <tr>\n",
              "      <th>25%</th>\n",
              "      <td>90.000000</td>\n",
              "      <td>99.750000</td>\n",
              "    </tr>\n",
              "    <tr>\n",
              "      <th>50%</th>\n",
              "      <td>131.489993</td>\n",
              "      <td>117.000000</td>\n",
              "    </tr>\n",
              "    <tr>\n",
              "      <th>75%</th>\n",
              "      <td>186.147604</td>\n",
              "      <td>140.250000</td>\n",
              "    </tr>\n",
              "    <tr>\n",
              "      <th>max</th>\n",
              "      <td>846.000000</td>\n",
              "      <td>199.000000</td>\n",
              "    </tr>\n",
              "  </tbody>\n",
              "</table>\n",
              "</div>"
            ],
            "text/plain": [
              "          Insulin     Glucose\n",
              "count  768.000000  768.000000\n",
              "mean   151.725932  121.686763\n",
              "std     95.854471   30.435949\n",
              "min    -13.562898   44.000000\n",
              "25%     90.000000   99.750000\n",
              "50%    131.489993  117.000000\n",
              "75%    186.147604  140.250000\n",
              "max    846.000000  199.000000"
            ]
          },
          "metadata": {
            "tags": []
          },
          "execution_count": 79
        }
      ]
    },
    {
      "cell_type": "code",
      "metadata": {
        "id": "kiinYBUbt-mq"
      },
      "source": [
        "# The regression generated a negative value.\n",
        "df[df < 0] = 0"
      ],
      "execution_count": null,
      "outputs": []
    },
    {
      "cell_type": "code",
      "metadata": {
        "id": "9-ZH5tQ70jTo",
        "outputId": "1ff7648b-e873-446a-c2e4-06b441e26f15",
        "colab": {
          "base_uri": "https://localhost:8080/",
          "height": 281
        }
      },
      "source": [
        "fig, axs = plt.subplots(1, 3)\n",
        "fig.set_figheight(4)\n",
        "fig.set_figwidth(9)\n",
        "\n",
        "bins = 10\n",
        "\n",
        "axs[0].hist(df3['Insulin'], bins, color='grey', alpha=0.75, rwidth=0.75)\n",
        "axs[0].set_title('Before w/o Zeros')\n",
        "\n",
        "axs[1].hist(df['Insulin'], bins, color='grey', alpha=0.75, rwidth=0.75)\n",
        "axs[1].set_title('After Reg. Imputation')\n",
        "\n",
        "fig.show()"
      ],
      "execution_count": null,
      "outputs": [
        {
          "output_type": "display_data",
          "data": {
            "image/png": "[encoded data removed]",
            "text/plain": [
              "<Figure size 648x288 with 3 Axes>"
            ]
          },
          "metadata": {
            "tags": [],
            "needs_background": "light"
          }
        }
      ]
    },
    {
      "cell_type": "code",
      "metadata": {
        "id": "oWtPPWkjNcXG",
        "outputId": "d293b276-eedb-458c-a94d-f8af66df8975",
        "colab": {
          "base_uri": "https://localhost:8080/",
          "height": 716
        }
      },
      "source": [
        "# Overall view of the dataset! Way better! =)\n",
        "fig, axs = plt.subplots(3, 3)\n",
        "fig.set_figheight(12)\n",
        "fig.set_figwidth(9)\n",
        "\n",
        "bins = 10\n",
        "\n",
        "axs[0, 0].hist(df['Pregnancies'], bins, color='grey', alpha=0.75, rwidth=0.75)\n",
        "axs[0, 0].set_title('Pregnancies')\n",
        "axs[0, 1].hist(df['Glucose'], bins, color='grey', alpha=0.75, rwidth=0.75)\n",
        "axs[0, 1].set_title('Glucose')\n",
        "axs[0, 2].hist(df['BloodPressure'], bins, color='grey', alpha=0.75, rwidth=0.75)\n",
        "axs[0, 2].set_title('BloodPressure')\n",
        "axs[1, 0].hist(df['SkinThickness'], bins, color='grey', alpha=0.75, rwidth=0.75)\n",
        "axs[1, 0].set_title('SkinThickness')\n",
        "axs[1, 1].hist(df['Insulin'], bins, color='grey', alpha=0.75, rwidth=0.75)\n",
        "axs[1, 1].set_title('Insulin')\n",
        "axs[1, 2].hist(df['BMI'], bins, color='grey', alpha=0.75, rwidth=0.75)\n",
        "axs[1, 2].set_title('BMI')\n",
        "axs[2, 0].hist(df['DiabetesPedigreeFunction'], bins, color='grey', alpha=0.75, rwidth=0.75)\n",
        "axs[2, 0].set_title('DiabetesPedigreeFunction')\n",
        "axs[2, 1].hist(df['Age'], bins, color='grey', alpha=0.75, rwidth=0.75)\n",
        "axs[2, 1].set_title('Age')\n",
        "\n",
        "fig.show()"
      ],
      "execution_count": null,
      "outputs": [
        {
          "output_type": "display_data",
          "data": {
            "image/png": "[encoded data removed]",
            "text/plain": [
              "<Figure size 648x864 with 9 Axes>"
            ]
          },
          "metadata": {
            "tags": [],
            "needs_background": "light"
          }
        }
      ]
    },
    {
      "cell_type": "markdown",
      "metadata": {
        "id": "DAjEd5ltKtI7"
      },
      "source": [
        "# 3. Balanceamento do Dataset"
      ]
    },
    {
      "cell_type": "code",
      "metadata": {
        "id": "a9wpkLyeFwSw",
        "outputId": "230d5001-eb1d-46fc-f19d-dcad94010be0",
        "colab": {
          "base_uri": "https://localhost:8080/",
          "height": 67
        }
      },
      "source": [
        "df['Outcome'].value_counts()"
      ],
      "execution_count": null,
      "outputs": [
        {
          "output_type": "execute_result",
          "data": {
            "text/plain": [
              "0    500\n",
              "1    268\n",
              "Name: Outcome, dtype: int64"
            ]
          },
          "metadata": {
            "tags": []
          },
          "execution_count": 83
        }
      ]
    },
    {
      "cell_type": "code",
      "metadata": {
        "id": "Umdq1wxaIHt4"
      },
      "source": [
        "df_majority = df[df['Outcome'] == 0]\n",
        "df_minority = df[df['Outcome'] == 1]"
      ],
      "execution_count": null,
      "outputs": []
    },
    {
      "cell_type": "code",
      "metadata": {
        "id": "5Uoh02TGIqzG",
        "outputId": "eaf03717-20c8-412d-bc2e-2d2ee4a16ae3",
        "colab": {
          "base_uri": "https://localhost:8080/",
          "height": 67
        }
      },
      "source": [
        "# 1st option.\n",
        "df_minority_upsampled = resample(df_minority, replace=True, n_samples=500, random_state=1000)\n",
        "df_upsampled = pd.concat([df_majority, df_minority_upsampled])\n",
        "df_upsampled['Outcome'].value_counts()"
      ],
      "execution_count": null,
      "outputs": [
        {
          "output_type": "execute_result",
          "data": {
            "text/plain": [
              "1    500\n",
              "0    500\n",
              "Name: Outcome, dtype: int64"
            ]
          },
          "metadata": {
            "tags": []
          },
          "execution_count": 85
        }
      ]
    },
    {
      "cell_type": "code",
      "metadata": {
        "id": "0srw5iAHR9y5",
        "outputId": "b440f9f1-7682-40e8-eb51-06c9846b7648",
        "colab": {
          "base_uri": "https://localhost:8080/",
          "height": 67
        }
      },
      "source": [
        "# 2nd option.\n",
        "df_majority_downsampled = resample(df_majority, replace=False,n_samples=268, random_state=1000)\n",
        "df_downsampled = pd.concat([df_majority_downsampled, df_minority])\n",
        "df_downsampled['Outcome'].value_counts()"
      ],
      "execution_count": null,
      "outputs": [
        {
          "output_type": "execute_result",
          "data": {
            "text/plain": [
              "1    268\n",
              "0    268\n",
              "Name: Outcome, dtype: int64"
            ]
          },
          "metadata": {
            "tags": []
          },
          "execution_count": 86
        }
      ]
    },
    {
      "cell_type": "markdown",
      "metadata": {
        "id": "eSe5sxdLhTCY"
      },
      "source": [
        "# 4. Separação Base Treino / Base Teste"
      ]
    },
    {
      "cell_type": "code",
      "metadata": {
        "id": "Gx123w8phj4a"
      },
      "source": [
        "# 1st option.\n",
        "X = df_upsampled.drop(['Outcome'], axis = 1)\n",
        "y = df_upsampled['Outcome']\n",
        "\n",
        "# 2nd option\n",
        "# X = df_downsampled.drop(['Outcome'], axis = 1)\n",
        "# y = df_downsampled['Outcome']"
      ],
      "execution_count": null,
      "outputs": []
    },
    {
      "cell_type": "code",
      "metadata": {
        "id": "qL5Xmrhji5HR"
      },
      "source": [
        "X_train, X_test, y_train, y_test = train_test_split(X, y, test_size = 0.33, random_state=1000)"
      ],
      "execution_count": null,
      "outputs": []
    },
    {
      "cell_type": "code",
      "metadata": {
        "id": "yFZtEvzGjo9s",
        "outputId": "a342435b-496f-48b7-8a26-10c35def4bde",
        "colab": {
          "base_uri": "https://localhost:8080/",
          "height": 84
        }
      },
      "source": [
        "print(f'X_train size: {X_train.shape[0]}')\n",
        "print(f'y_train size: {y_train.shape[0]}')\n",
        "print(f'X_test  size: {X_test.shape[0]}')\n",
        "print(f'y_test  size: {y_test.shape[0]}')"
      ],
      "execution_count": null,
      "outputs": [
        {
          "output_type": "stream",
          "text": [
            "X_train size: 670\n",
            "y_train size: 670\n",
            "X_test  size: 330\n",
            "y_test  size: 330\n"
          ],
          "name": "stdout"
        }
      ]
    },
    {
      "cell_type": "markdown",
      "metadata": {
        "id": "9G0lswqhilF3"
      },
      "source": [
        "# 5. Modelagem e Teste (SVM Classifier)\n",
        "\n"
      ]
    },
    {
      "cell_type": "code",
      "metadata": {
        "id": "hIj5rQznitau"
      },
      "source": [
        "pipe = Pipeline([\n",
        "    ('standardscaler', StandardScaler()),\n",
        "    ('svc' , SVC(random_state=1000))\n",
        "])"
      ],
      "execution_count": null,
      "outputs": []
    },
    {
      "cell_type": "code",
      "metadata": {
        "id": "W-AFLDpxl_ox"
      },
      "source": [
        "parameters = [{\n",
        "    'svc__kernel': ['linear', 'rbf'],\n",
        "    'svc__C'     : [0.00125 * 2 ** x for x in range(20)],\n",
        "    'svc__gamma' : [0.015625 * 2 ** x for x in range(20)]}]"
      ],
      "execution_count": null,
      "outputs": []
    },
    {
      "cell_type": "code",
      "metadata": {
        "id": "Ef6_RriGmniR"
      },
      "source": [
        "kf = KFold(n_splits = 3, shuffle = True)"
      ],
      "execution_count": null,
      "outputs": []
    },
    {
      "cell_type": "code",
      "metadata": {
        "id": "unNIXDHsmbdk"
      },
      "source": [
        "grid_search = GridSearchCV(\n",
        "    pipe,\n",
        "    param_grid = parameters,\n",
        "    scoring = 'accuracy',\n",
        "    cv = kf,\n",
        "    verbose = 1,\n",
        "    n_jobs = -1)"
      ],
      "execution_count": null,
      "outputs": []
    },
    {
      "cell_type": "code",
      "metadata": {
        "id": "GSc5kA17ncAa",
        "outputId": "938d73eb-5514-46d6-ebb0-7cee5d68bba8",
        "colab": {
          "base_uri": "https://localhost:8080/",
          "height": 118
        }
      },
      "source": [
        "grid_search = grid_search.fit(X_train, y_train)\n",
        "y_pred = grid_search.predict(X_test)"
      ],
      "execution_count": null,
      "outputs": [
        {
          "output_type": "stream",
          "text": [
            "Fitting 3 folds for each of 800 candidates, totalling 2400 fits\n"
          ],
          "name": "stdout"
        },
        {
          "output_type": "stream",
          "text": [
            "[Parallel(n_jobs=-1)]: Using backend LokyBackend with 2 concurrent workers.\n",
            "[Parallel(n_jobs=-1)]: Done 202 tasks      | elapsed:    3.6s\n",
            "[Parallel(n_jobs=-1)]: Done 1402 tasks      | elapsed:   17.4s\n",
            "[Parallel(n_jobs=-1)]: Done 2156 tasks      | elapsed:   57.5s\n",
            "[Parallel(n_jobs=-1)]: Done 2400 out of 2400 | elapsed:  2.6min finished\n"
          ],
          "name": "stderr"
        }
      ]
    },
    {
      "cell_type": "code",
      "metadata": {
        "id": "u-UmxgFx2RJW",
        "outputId": "853875a3-3d38-438c-9634-21595ffedf0f",
        "colab": {
          "base_uri": "https://localhost:8080/",
          "height": 34
        }
      },
      "source": [
        "print(f'Best Parameters: {grid_search.best_params_}') "
      ],
      "execution_count": null,
      "outputs": [
        {
          "output_type": "stream",
          "text": [
            "Best Parameters: {'svc__C': 0.64, 'svc__gamma': 1.0, 'svc__kernel': 'rbf'}\n"
          ],
          "name": "stdout"
        }
      ]
    },
    {
      "cell_type": "code",
      "metadata": {
        "id": "vVlw_XPa7tao",
        "outputId": "f46a916e-8639-453b-cd1a-93c382e1441a",
        "colab": {
          "base_uri": "https://localhost:8080/",
          "height": 101
        }
      },
      "source": [
        "cm = confusion_matrix(y_test, y_pred)\n",
        "print('Confunsion Matrix')\n",
        "print('True  Negative:' + f'{cm[0, 0]}'.rjust(4))\n",
        "print('False Negative:' + f'{cm[1, 0]}'.rjust(4))\n",
        "print('False Positive:' + f'{cm[0, 1]}'.rjust(4))\n",
        "print('True  Positive:' + f'{cm[1, 1]}'.rjust(4))"
      ],
      "execution_count": null,
      "outputs": [
        {
          "output_type": "stream",
          "text": [
            "Confunsion Matrix\n",
            "True  Negative: 129\n",
            "False Negative:  25\n",
            "False Positive:  33\n",
            "True  Positive: 143\n"
          ],
          "name": "stdout"
        }
      ]
    },
    {
      "cell_type": "code",
      "metadata": {
        "id": "Spwof_snr2V6",
        "outputId": "0c1b3ae3-61d9-407b-dfc2-5acc35951594",
        "colab": {
          "base_uri": "https://localhost:8080/",
          "height": 168
        }
      },
      "source": [
        "print(classification_report(y_test, y_pred))"
      ],
      "execution_count": null,
      "outputs": [
        {
          "output_type": "stream",
          "text": [
            "              precision    recall  f1-score   support\n",
            "\n",
            "           0       0.84      0.80      0.82       162\n",
            "           1       0.81      0.85      0.83       168\n",
            "\n",
            "    accuracy                           0.82       330\n",
            "   macro avg       0.83      0.82      0.82       330\n",
            "weighted avg       0.82      0.82      0.82       330\n",
            "\n"
          ],
          "name": "stdout"
        }
      ]
    },
    {
      "cell_type": "markdown",
      "metadata": {
        "id": "j5g4nOGAe0RX"
      },
      "source": [
        "# 6. Modelagem e Teste (Logistic Regression)"
      ]
    },
    {
      "cell_type": "code",
      "metadata": {
        "id": "ePulw-YH8HJe"
      },
      "source": [
        "pipe = Pipeline([\n",
        "    ('standardscaler', StandardScaler()),\n",
        "    ('logi' , LogisticRegression(random_state=1000))\n",
        "])"
      ],
      "execution_count": null,
      "outputs": []
    },
    {
      "cell_type": "code",
      "metadata": {
        "id": "GRgS65kM8j6h"
      },
      "source": [
        "pipe.fit(X_train, y_train)\n",
        "y_pred = pipe.predict(X_test)"
      ],
      "execution_count": null,
      "outputs": []
    },
    {
      "cell_type": "code",
      "metadata": {
        "id": "tquyCKRPEs6E",
        "outputId": "574618c7-d607-4aab-fe7d-80f604462b52",
        "colab": {
          "base_uri": "https://localhost:8080/",
          "height": 34
        }
      },
      "source": [
        "coef = pipe.named_steps['logi'].coef_[0]\n",
        "intercept = pipe.named_steps['logi'].intercept_[0]\n",
        "print(f'Intercept: {intercept:.4f}, Coef: {[f\"{x:.4f}\" for x in coef.tolist()]}')"
      ],
      "execution_count": null,
      "outputs": [
        {
          "output_type": "stream",
          "text": [
            "Intercept: 0.0306, Coef: ['0.3260', '1.1587', '0.0537', '-0.0063', '-0.1824', '0.5461', '0.2067', '0.1763']\n"
          ],
          "name": "stdout"
        }
      ]
    },
    {
      "cell_type": "code",
      "metadata": {
        "id": "Q-G1_THq9H1v",
        "outputId": "16b1a83f-983f-4a63-96fe-187c7983e316",
        "colab": {
          "base_uri": "https://localhost:8080/",
          "height": 101
        }
      },
      "source": [
        "cm = confusion_matrix(y_test, y_pred)\n",
        "print('Confunsion Matrix')\n",
        "print('True  Negative:' + f'{cm[0, 0]}'.rjust(4))\n",
        "print('False Negative:' + f'{cm[1, 0]}'.rjust(4))\n",
        "print('False Positive:' + f'{cm[0, 1]}'.rjust(4))\n",
        "print('True  Positive:' + f'{cm[1, 1]}'.rjust(4))"
      ],
      "execution_count": null,
      "outputs": [
        {
          "output_type": "stream",
          "text": [
            "Confunsion Matrix\n",
            "True  Negative: 131\n",
            "False Negative:  56\n",
            "False Positive:  31\n",
            "True  Positive: 112\n"
          ],
          "name": "stdout"
        }
      ]
    },
    {
      "cell_type": "code",
      "metadata": {
        "id": "EKC1FLlO9NCh",
        "outputId": "1dc4984a-5f30-4740-c2f6-6fad70e9df9f",
        "colab": {
          "base_uri": "https://localhost:8080/",
          "height": 168
        }
      },
      "source": [
        "print(classification_report(y_test, y_pred))"
      ],
      "execution_count": null,
      "outputs": [
        {
          "output_type": "stream",
          "text": [
            "              precision    recall  f1-score   support\n",
            "\n",
            "           0       0.70      0.81      0.75       162\n",
            "           1       0.78      0.67      0.72       168\n",
            "\n",
            "    accuracy                           0.74       330\n",
            "   macro avg       0.74      0.74      0.74       330\n",
            "weighted avg       0.74      0.74      0.74       330\n",
            "\n"
          ],
          "name": "stdout"
        }
      ]
    },
    {
      "cell_type": "markdown",
      "metadata": {
        "id": "qEuQzIEhixLl"
      },
      "source": [
        "# 7. Modelagem e Test (KNeighbors Classifier)"
      ]
    },
    {
      "cell_type": "code",
      "metadata": {
        "id": "g_JJDoTTjOyU"
      },
      "source": [
        "pipe = Pipeline([\n",
        "    ('standardscaler', StandardScaler()),\n",
        "    ('knn' , KNeighborsClassifier())\n",
        "])"
      ],
      "execution_count": null,
      "outputs": []
    },
    {
      "cell_type": "code",
      "metadata": {
        "id": "RU3iDSA3kaEY"
      },
      "source": [
        "pipe.fit(X_train, y_train)\n",
        "y_pred = pipe.predict(X_test)"
      ],
      "execution_count": null,
      "outputs": []
    },
    {
      "cell_type": "code",
      "metadata": {
        "id": "nd09NSP2kdWn",
        "outputId": "4891c109-f804-4386-ffed-241fa86c40aa",
        "colab": {
          "base_uri": "https://localhost:8080/",
          "height": 101
        }
      },
      "source": [
        "cm = confusion_matrix(y_test, y_pred)\n",
        "print('Confunsion Matrix')\n",
        "print('True  Negative:' + f'{cm[0, 0]}'.rjust(4))\n",
        "print('False Negative:' + f'{cm[1, 0]}'.rjust(4))\n",
        "print('False Positive:' + f'{cm[0, 1]}'.rjust(4))\n",
        "print('True  Positive:' + f'{cm[1, 1]}'.rjust(4))"
      ],
      "execution_count": null,
      "outputs": [
        {
          "output_type": "stream",
          "text": [
            "Confunsion Matrix\n",
            "True  Negative: 106\n",
            "False Negative:  30\n",
            "False Positive:  56\n",
            "True  Positive: 138\n"
          ],
          "name": "stdout"
        }
      ]
    },
    {
      "cell_type": "code",
      "metadata": {
        "id": "xod2FYCLkeko",
        "outputId": "bc562422-b695-4588-b9f3-755bb0525a4a",
        "colab": {
          "base_uri": "https://localhost:8080/",
          "height": 168
        }
      },
      "source": [
        "print(classification_report(y_test, y_pred))"
      ],
      "execution_count": null,
      "outputs": [
        {
          "output_type": "stream",
          "text": [
            "              precision    recall  f1-score   support\n",
            "\n",
            "           0       0.78      0.65      0.71       162\n",
            "           1       0.71      0.82      0.76       168\n",
            "\n",
            "    accuracy                           0.74       330\n",
            "   macro avg       0.75      0.74      0.74       330\n",
            "weighted avg       0.74      0.74      0.74       330\n",
            "\n"
          ],
          "name": "stdout"
        }
      ]
    },
    {
      "cell_type": "markdown",
      "metadata": {
        "id": "H8OM1XT_-RrS"
      },
      "source": [
        "# 8 Modelagem e Teste (Random Forest)"
      ]
    },
    {
      "cell_type": "code",
      "metadata": {
        "id": "uSKiAfFl_JWt"
      },
      "source": [
        "pipe = Pipeline([\n",
        "    ('standardscaler', StandardScaler()),\n",
        "    ('rf' , RandomForestClassifier(random_state=1000))\n",
        "])"
      ],
      "execution_count": null,
      "outputs": []
    },
    {
      "cell_type": "code",
      "metadata": {
        "id": "M4rQAz7T_zR9"
      },
      "source": [
        "parameters = [{\n",
        "    'rf__n_estimators': [100, 200, 300, 400],\n",
        "    'rf__max_features': [2, 3, 4, 5, 6, 7, 8],\n",
        "    'rf__max_depth': [4, 5, 6, 7, 8],\n",
        "    'rf__min_samples_split' : np.linspace(0.1, 1.0, 5, endpoint=True).tolist()}]"
      ],
      "execution_count": null,
      "outputs": []
    },
    {
      "cell_type": "code",
      "metadata": {
        "id": "-BSRObXFAd0D"
      },
      "source": [
        "kf = KFold(n_splits = 3, shuffle = True)"
      ],
      "execution_count": null,
      "outputs": []
    },
    {
      "cell_type": "code",
      "metadata": {
        "id": "IyZVEEP_AgRp"
      },
      "source": [
        "grid_search = GridSearchCV(\n",
        "    pipe,\n",
        "    param_grid = parameters,\n",
        "    scoring = 'accuracy',\n",
        "    cv = kf,\n",
        "    verbose = 1,\n",
        "    n_jobs = -1)"
      ],
      "execution_count": null,
      "outputs": []
    },
    {
      "cell_type": "code",
      "metadata": {
        "id": "iHn5WCvfAk7u",
        "outputId": "84b6dc42-1e8f-40d8-fa03-9ebaeb329c65",
        "colab": {
          "base_uri": "https://localhost:8080/",
          "height": 168
        }
      },
      "source": [
        "grid_search = grid_search.fit(X_train, y_train)\n",
        "y_pred = grid_search.predict(X_test)"
      ],
      "execution_count": null,
      "outputs": [
        {
          "output_type": "stream",
          "text": [
            "Fitting 3 folds for each of 700 candidates, totalling 2100 fits\n"
          ],
          "name": "stdout"
        },
        {
          "output_type": "stream",
          "text": [
            "[Parallel(n_jobs=-1)]: Using backend LokyBackend with 2 concurrent workers.\n",
            "[Parallel(n_jobs=-1)]: Done  46 tasks      | elapsed:   14.4s\n",
            "[Parallel(n_jobs=-1)]: Done 196 tasks      | elapsed:  1.0min\n",
            "[Parallel(n_jobs=-1)]: Done 446 tasks      | elapsed:  2.4min\n",
            "[Parallel(n_jobs=-1)]: Done 796 tasks      | elapsed:  4.3min\n",
            "[Parallel(n_jobs=-1)]: Done 1246 tasks      | elapsed:  7.0min\n",
            "[Parallel(n_jobs=-1)]: Done 1796 tasks      | elapsed: 10.2min\n",
            "[Parallel(n_jobs=-1)]: Done 2100 out of 2100 | elapsed: 11.9min finished\n"
          ],
          "name": "stderr"
        }
      ]
    },
    {
      "cell_type": "code",
      "metadata": {
        "id": "mYNLyIPdBTTM",
        "outputId": "adbe2521-3ba6-4796-bb83-b497d5500cca",
        "colab": {
          "base_uri": "https://localhost:8080/",
          "height": 34
        }
      },
      "source": [
        "print(f'Best Parameters: {grid_search.best_params_}') "
      ],
      "execution_count": null,
      "outputs": [
        {
          "output_type": "stream",
          "text": [
            "Best Parameters: {'rf__max_depth': 7, 'rf__max_features': 5, 'rf__min_samples_split': 0.1, 'rf__n_estimators': 100}\n"
          ],
          "name": "stdout"
        }
      ]
    },
    {
      "cell_type": "code",
      "metadata": {
        "id": "JmJjLmf2BYQ_",
        "outputId": "05652fd6-fd09-4dfd-ed16-ef35ed0196c0",
        "colab": {
          "base_uri": "https://localhost:8080/",
          "height": 101
        }
      },
      "source": [
        "cm = confusion_matrix(y_test, y_pred)\n",
        "print('Confunsion Matrix')\n",
        "print('True  Negative:' + f'{cm[0, 0]}'.rjust(4))\n",
        "print('False Negative:' + f'{cm[1, 0]}'.rjust(4))\n",
        "print('False Positive:' + f'{cm[0, 1]}'.rjust(4))\n",
        "print('True  Positive:' + f'{cm[1, 1]}'.rjust(4))"
      ],
      "execution_count": null,
      "outputs": [
        {
          "output_type": "stream",
          "text": [
            "Confunsion Matrix\n",
            "True  Negative: 123\n",
            "False Negative:  29\n",
            "False Positive:  39\n",
            "True  Positive: 139\n"
          ],
          "name": "stdout"
        }
      ]
    },
    {
      "cell_type": "code",
      "metadata": {
        "id": "s82Q3jWNBcMM",
        "outputId": "51511187-c8d5-4c01-f1af-9ba9bb1064f6",
        "colab": {
          "base_uri": "https://localhost:8080/",
          "height": 168
        }
      },
      "source": [
        "print(classification_report(y_test, y_pred))"
      ],
      "execution_count": null,
      "outputs": [
        {
          "output_type": "stream",
          "text": [
            "              precision    recall  f1-score   support\n",
            "\n",
            "           0       0.81      0.76      0.78       162\n",
            "           1       0.78      0.83      0.80       168\n",
            "\n",
            "    accuracy                           0.79       330\n",
            "   macro avg       0.80      0.79      0.79       330\n",
            "weighted avg       0.79      0.79      0.79       330\n",
            "\n"
          ],
          "name": "stdout"
        }
      ]
    },
    {
      "cell_type": "markdown",
      "metadata": {
        "id": "OqkYQf8ixTx8"
      },
      "source": [
        "# 9. Modelagem e Teste (Ensemble Model)\n",
        "\n"
      ]
    },
    {
      "cell_type": "code",
      "metadata": {
        "id": "jVKNyGMK761T"
      },
      "source": [
        "pipe_svc = Pipeline([\n",
        "    ('standardscaler', StandardScaler()),\n",
        "    ('agent' , SVC(random_state=1000))\n",
        "])"
      ],
      "execution_count": null,
      "outputs": []
    },
    {
      "cell_type": "code",
      "metadata": {
        "id": "8z2nOMAa79rk"
      },
      "source": [
        "pipe_logi = Pipeline([\n",
        "    ('standardscaler', StandardScaler()),\n",
        "    ('agent' , LogisticRegression(random_state=1000))\n",
        "])"
      ],
      "execution_count": null,
      "outputs": []
    },
    {
      "cell_type": "code",
      "metadata": {
        "id": "mLoPjRpPlAlq"
      },
      "source": [
        "pipe_knn = Pipeline([\n",
        "    ('standardscaler', StandardScaler()),\n",
        "    ('agent' , KNeighborsClassifier())\n",
        "])"
      ],
      "execution_count": null,
      "outputs": []
    },
    {
      "cell_type": "code",
      "metadata": {
        "id": "vSZ0Jq9A8GOF"
      },
      "source": [
        "pipe_rf = Pipeline([\n",
        "    ('standardscaler', StandardScaler()),\n",
        "    ('agent' , RandomForestClassifier(random_state=1000))\n",
        "])"
      ],
      "execution_count": null,
      "outputs": []
    },
    {
      "cell_type": "code",
      "metadata": {
        "id": "dVYB7VAV9MUa"
      },
      "source": [
        "estimators = [('svc', pipe_svc), ('logi', pipe_logi), ('knn', pipe_knn), ('rf', pipe_rf)]\n",
        "\n",
        "pipe_clf = Pipeline([\n",
        "    ('clf', VotingClassifier(estimators))\n",
        "])"
      ],
      "execution_count": null,
      "outputs": []
    },
    {
      "cell_type": "code",
      "metadata": {
        "id": "5Geza6rr_XL7"
      },
      "source": [
        "kf = KFold(n_splits = 3, shuffle = True)"
      ],
      "execution_count": null,
      "outputs": []
    },
    {
      "cell_type": "code",
      "metadata": {
        "id": "MA1daWgZ8LTm"
      },
      "source": [
        "# Using the best parameters from the previous sections.\n",
        "parameters = [{\n",
        "    'clf__svc__agent__kernel'      : ['rbf'],\n",
        "    'clf__svc__agent__C'           : [0.64],\n",
        "    'clf__svc__agent__gamma'       : [1.0],\n",
        "    'clf__rf__agent__n_estimators' : [100],\n",
        "    'clf__rf__agent__max_features' : [5],\n",
        "    'clf__rf__agent__max_depth'    : [7],\n",
        "    'clf__rf__agent__min_samples_split'   : [0.1]}]"
      ],
      "execution_count": null,
      "outputs": []
    },
    {
      "cell_type": "code",
      "metadata": {
        "id": "MCG7wAVE_SS6"
      },
      "source": [
        "grid_search = GridSearchCV(\n",
        "    pipe_clf,\n",
        "    param_grid = parameters,\n",
        "    scoring = 'accuracy',\n",
        "    cv = kf,\n",
        "    verbose = 1,\n",
        "    n_jobs = -1)"
      ],
      "execution_count": null,
      "outputs": []
    },
    {
      "cell_type": "code",
      "metadata": {
        "id": "gwDEbSlM_jv7",
        "outputId": "cfb0274d-5180-4147-d4c0-0a81e063fc06",
        "colab": {
          "base_uri": "https://localhost:8080/",
          "height": 67
        }
      },
      "source": [
        "grid_search = grid_search.fit(X_train, y_train)\n",
        "y_pred = grid_search.predict(X_test)"
      ],
      "execution_count": null,
      "outputs": [
        {
          "output_type": "stream",
          "text": [
            "Fitting 3 folds for each of 1 candidates, totalling 3 fits\n"
          ],
          "name": "stdout"
        },
        {
          "output_type": "stream",
          "text": [
            "[Parallel(n_jobs=-1)]: Using backend LokyBackend with 2 concurrent workers.\n",
            "[Parallel(n_jobs=-1)]: Done   3 out of   3 | elapsed:    1.9s finished\n"
          ],
          "name": "stderr"
        }
      ]
    },
    {
      "cell_type": "code",
      "metadata": {
        "id": "jUoWvREMBS19",
        "outputId": "dee8872e-ddfd-4797-89e9-5b2f605fa3c3",
        "colab": {
          "base_uri": "https://localhost:8080/",
          "height": 101
        }
      },
      "source": [
        "cm = confusion_matrix(y_test, y_pred)\n",
        "print('Confunsion Matrix')\n",
        "print('True  Negative:' + f'{cm[0, 0]}'.rjust(4))\n",
        "print('False Negative:' + f'{cm[1, 0]}'.rjust(4))\n",
        "print('False Positive:' + f'{cm[0, 1]}'.rjust(4))\n",
        "print('True  Positive:' + f'{cm[1, 1]}'.rjust(4))"
      ],
      "execution_count": null,
      "outputs": [
        {
          "output_type": "stream",
          "text": [
            "Confunsion Matrix\n",
            "True  Negative: 130\n",
            "False Negative:  37\n",
            "False Positive:  32\n",
            "True  Positive: 131\n"
          ],
          "name": "stdout"
        }
      ]
    },
    {
      "cell_type": "code",
      "metadata": {
        "id": "o0yDFTs_BWK8",
        "outputId": "9fd82946-c719-46dc-cd3a-ea7c6c98a980",
        "colab": {
          "base_uri": "https://localhost:8080/",
          "height": 168
        }
      },
      "source": [
        "print(classification_report(y_test, y_pred))"
      ],
      "execution_count": null,
      "outputs": [
        {
          "output_type": "stream",
          "text": [
            "              precision    recall  f1-score   support\n",
            "\n",
            "           0       0.78      0.80      0.79       162\n",
            "           1       0.80      0.78      0.79       168\n",
            "\n",
            "    accuracy                           0.79       330\n",
            "   macro avg       0.79      0.79      0.79       330\n",
            "weighted avg       0.79      0.79      0.79       330\n",
            "\n"
          ],
          "name": "stdout"
        }
      ]
    }
  ]
}